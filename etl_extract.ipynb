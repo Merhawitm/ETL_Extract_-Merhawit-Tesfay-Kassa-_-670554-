{
 "cells": [
  {
   "cell_type": "code",
   "execution_count": 14,
   "id": "045911c5",
   "metadata": {},
   "outputs": [
    {
     "data": {
      "application/vnd.microsoft.datawrangler.viewer.v0+json": {
       "columns": [
        {
         "name": "index",
         "rawType": "int64",
         "type": "integer"
        },
        {
         "name": "review_id",
         "rawType": "int64",
         "type": "integer"
        },
        {
         "name": "product",
         "rawType": "object",
         "type": "string"
        },
        {
         "name": "rating",
         "rawType": "int64",
         "type": "integer"
        },
        {
         "name": "review_date",
         "rawType": "object",
         "type": "string"
        },
        {
         "name": "last_updated",
         "rawType": "object",
         "type": "string"
        }
       ],
       "ref": "d1114799-a087-4bbb-bf6c-7955e803198e",
       "rows": [
        [
         "0",
         "1000",
         "Keyboard",
         "2",
         "2025-04-01",
         "2025-04-01T11:18:00"
        ],
        [
         "1",
         "1001",
         "Laptop",
         "2",
         "2025-04-02",
         "2025-04-02T20:06:00"
        ],
        [
         "2",
         "1002",
         "Laptop",
         "1",
         "2025-04-03",
         "2025-04-03T09:22:00"
        ],
        [
         "3",
         "1003",
         "Keyboard",
         "2",
         "2025-04-04",
         "2025-04-04T06:32:00"
        ],
        [
         "4",
         "1004",
         "Laptop",
         "3",
         "2025-04-05",
         "2025-04-05T08:23:00"
        ]
       ],
       "shape": {
        "columns": 5,
        "rows": 5
       }
      },
      "text/html": [
       "<div>\n",
       "<style scoped>\n",
       "    .dataframe tbody tr th:only-of-type {\n",
       "        vertical-align: middle;\n",
       "    }\n",
       "\n",
       "    .dataframe tbody tr th {\n",
       "        vertical-align: top;\n",
       "    }\n",
       "\n",
       "    .dataframe thead th {\n",
       "        text-align: right;\n",
       "    }\n",
       "</style>\n",
       "<table border=\"1\" class=\"dataframe\">\n",
       "  <thead>\n",
       "    <tr style=\"text-align: right;\">\n",
       "      <th></th>\n",
       "      <th>review_id</th>\n",
       "      <th>product</th>\n",
       "      <th>rating</th>\n",
       "      <th>review_date</th>\n",
       "      <th>last_updated</th>\n",
       "    </tr>\n",
       "  </thead>\n",
       "  <tbody>\n",
       "    <tr>\n",
       "      <th>0</th>\n",
       "      <td>1000</td>\n",
       "      <td>Keyboard</td>\n",
       "      <td>2</td>\n",
       "      <td>2025-04-01</td>\n",
       "      <td>2025-04-01T11:18:00</td>\n",
       "    </tr>\n",
       "    <tr>\n",
       "      <th>1</th>\n",
       "      <td>1001</td>\n",
       "      <td>Laptop</td>\n",
       "      <td>2</td>\n",
       "      <td>2025-04-02</td>\n",
       "      <td>2025-04-02T20:06:00</td>\n",
       "    </tr>\n",
       "    <tr>\n",
       "      <th>2</th>\n",
       "      <td>1002</td>\n",
       "      <td>Laptop</td>\n",
       "      <td>1</td>\n",
       "      <td>2025-04-03</td>\n",
       "      <td>2025-04-03T09:22:00</td>\n",
       "    </tr>\n",
       "    <tr>\n",
       "      <th>3</th>\n",
       "      <td>1003</td>\n",
       "      <td>Keyboard</td>\n",
       "      <td>2</td>\n",
       "      <td>2025-04-04</td>\n",
       "      <td>2025-04-04T06:32:00</td>\n",
       "    </tr>\n",
       "    <tr>\n",
       "      <th>4</th>\n",
       "      <td>1004</td>\n",
       "      <td>Laptop</td>\n",
       "      <td>3</td>\n",
       "      <td>2025-04-05</td>\n",
       "      <td>2025-04-05T08:23:00</td>\n",
       "    </tr>\n",
       "  </tbody>\n",
       "</table>\n",
       "</div>"
      ],
      "text/plain": [
       "   review_id   product  rating review_date         last_updated\n",
       "0       1000  Keyboard       2  2025-04-01  2025-04-01T11:18:00\n",
       "1       1001    Laptop       2  2025-04-02  2025-04-02T20:06:00\n",
       "2       1002    Laptop       1  2025-04-03  2025-04-03T09:22:00\n",
       "3       1003  Keyboard       2  2025-04-04  2025-04-04T06:32:00\n",
       "4       1004    Laptop       3  2025-04-05  2025-04-05T08:23:00"
      ]
     },
     "execution_count": 14,
     "metadata": {},
     "output_type": "execute_result"
    }
   ],
   "source": [
    "import pandas as pd\n",
    "import numpy as np\n",
    "from datetime import datetime, timedelta\n",
    "import random\n",
    "\n",
    "# Generate 60 records of simulated product reviews\n",
    "products = ['Laptop', 'Phone', 'Tablet', 'Monitor', 'Keyboard']\n",
    "data = []\n",
    "start_date = datetime(2025, 4, 1)\n",
    "\n",
    "for i in range(60):\n",
    "    date = start_date + timedelta(days=i)\n",
    "    data.append({\n",
    "        'review_id': 1000 + i,\n",
    "        'product': random.choice(products),\n",
    "        'rating': random.randint(1, 5),\n",
    "        'review_date': date.date().isoformat(),\n",
    "        'last_updated': (date + timedelta(hours=random.randint(0, 23), minutes=random.randint(0, 59))).isoformat()\n",
    "    })\n",
    "\n",
    "df = pd.DataFrame(data)\n",
    "df.to_csv('custom_data.csv', index=False)\n",
    "df.head()"
   ]
  },
  {
   "cell_type": "code",
   "execution_count": null,
   "id": "14ce606a",
   "metadata": {},
   "outputs": [],
   "source": []
  },
  {
   "cell_type": "markdown",
   "id": "aaf041e2",
   "metadata": {},
   "source": [
    "# Section 1: Full Extraction"
   ]
  },
  {
   "cell_type": "code",
   "execution_count": 15,
   "id": "e02d60e2",
   "metadata": {},
   "outputs": [
    {
     "name": "stdout",
     "output_type": "stream",
     "text": [
      "Extracted 60 rows fully.\n",
      "Columns: ['review_id', 'product', 'rating', 'review_date', 'last_updated']\n"
     ]
    },
    {
     "data": {
      "application/vnd.microsoft.datawrangler.viewer.v0+json": {
       "columns": [
        {
         "name": "index",
         "rawType": "int64",
         "type": "integer"
        },
        {
         "name": "review_id",
         "rawType": "int64",
         "type": "integer"
        },
        {
         "name": "product",
         "rawType": "object",
         "type": "string"
        },
        {
         "name": "rating",
         "rawType": "int64",
         "type": "integer"
        },
        {
         "name": "review_date",
         "rawType": "object",
         "type": "string"
        },
        {
         "name": "last_updated",
         "rawType": "datetime64[ns]",
         "type": "datetime"
        }
       ],
       "ref": "2d4f5493-a425-4181-b753-2b96da2c3685",
       "rows": [
        [
         "0",
         "1000",
         "Keyboard",
         "2",
         "2025-04-01",
         "2025-04-01 11:18:00"
        ],
        [
         "1",
         "1001",
         "Laptop",
         "2",
         "2025-04-02",
         "2025-04-02 20:06:00"
        ],
        [
         "2",
         "1002",
         "Laptop",
         "1",
         "2025-04-03",
         "2025-04-03 09:22:00"
        ],
        [
         "3",
         "1003",
         "Keyboard",
         "2",
         "2025-04-04",
         "2025-04-04 06:32:00"
        ],
        [
         "4",
         "1004",
         "Laptop",
         "3",
         "2025-04-05",
         "2025-04-05 08:23:00"
        ]
       ],
       "shape": {
        "columns": 5,
        "rows": 5
       }
      },
      "text/html": [
       "<div>\n",
       "<style scoped>\n",
       "    .dataframe tbody tr th:only-of-type {\n",
       "        vertical-align: middle;\n",
       "    }\n",
       "\n",
       "    .dataframe tbody tr th {\n",
       "        vertical-align: top;\n",
       "    }\n",
       "\n",
       "    .dataframe thead th {\n",
       "        text-align: right;\n",
       "    }\n",
       "</style>\n",
       "<table border=\"1\" class=\"dataframe\">\n",
       "  <thead>\n",
       "    <tr style=\"text-align: right;\">\n",
       "      <th></th>\n",
       "      <th>review_id</th>\n",
       "      <th>product</th>\n",
       "      <th>rating</th>\n",
       "      <th>review_date</th>\n",
       "      <th>last_updated</th>\n",
       "    </tr>\n",
       "  </thead>\n",
       "  <tbody>\n",
       "    <tr>\n",
       "      <th>0</th>\n",
       "      <td>1000</td>\n",
       "      <td>Keyboard</td>\n",
       "      <td>2</td>\n",
       "      <td>2025-04-01</td>\n",
       "      <td>2025-04-01 11:18:00</td>\n",
       "    </tr>\n",
       "    <tr>\n",
       "      <th>1</th>\n",
       "      <td>1001</td>\n",
       "      <td>Laptop</td>\n",
       "      <td>2</td>\n",
       "      <td>2025-04-02</td>\n",
       "      <td>2025-04-02 20:06:00</td>\n",
       "    </tr>\n",
       "    <tr>\n",
       "      <th>2</th>\n",
       "      <td>1002</td>\n",
       "      <td>Laptop</td>\n",
       "      <td>1</td>\n",
       "      <td>2025-04-03</td>\n",
       "      <td>2025-04-03 09:22:00</td>\n",
       "    </tr>\n",
       "    <tr>\n",
       "      <th>3</th>\n",
       "      <td>1003</td>\n",
       "      <td>Keyboard</td>\n",
       "      <td>2</td>\n",
       "      <td>2025-04-04</td>\n",
       "      <td>2025-04-04 06:32:00</td>\n",
       "    </tr>\n",
       "    <tr>\n",
       "      <th>4</th>\n",
       "      <td>1004</td>\n",
       "      <td>Laptop</td>\n",
       "      <td>3</td>\n",
       "      <td>2025-04-05</td>\n",
       "      <td>2025-04-05 08:23:00</td>\n",
       "    </tr>\n",
       "  </tbody>\n",
       "</table>\n",
       "</div>"
      ],
      "text/plain": [
       "   review_id   product  rating review_date        last_updated\n",
       "0       1000  Keyboard       2  2025-04-01 2025-04-01 11:18:00\n",
       "1       1001    Laptop       2  2025-04-02 2025-04-02 20:06:00\n",
       "2       1002    Laptop       1  2025-04-03 2025-04-03 09:22:00\n",
       "3       1003  Keyboard       2  2025-04-04 2025-04-04 06:32:00\n",
       "4       1004    Laptop       3  2025-04-05 2025-04-05 08:23:00"
      ]
     },
     "execution_count": 15,
     "metadata": {},
     "output_type": "execute_result"
    }
   ],
   "source": [
    "\n",
    "\n",
    "df_full = pd.read_csv(\"custom_data.csv\", parse_dates=[\"last_updated\"])\n",
    "print(f\"Extracted {len(df_full)} rows fully.\")\n",
    "print(f\"Columns: {list(df_full.columns)}\")\n",
    "df_full.head()\n"
   ]
  },
  {
   "cell_type": "markdown",
   "id": "8c1c1eb9",
   "metadata": {},
   "source": [
    "# Section 2: Incremental Extraction\n"
   ]
  },
  {
   "cell_type": "code",
   "execution_count": 16,
   "id": "84886bde",
   "metadata": {},
   "outputs": [
    {
     "name": "stdout",
     "output_type": "stream",
     "text": [
      "Extracted 40 rows incrementally since 2025-04-20 12:00:00.\n"
     ]
    },
    {
     "data": {
      "application/vnd.microsoft.datawrangler.viewer.v0+json": {
       "columns": [
        {
         "name": "index",
         "rawType": "int64",
         "type": "integer"
        },
        {
         "name": "review_id",
         "rawType": "int64",
         "type": "integer"
        },
        {
         "name": "product",
         "rawType": "object",
         "type": "string"
        },
        {
         "name": "rating",
         "rawType": "int64",
         "type": "integer"
        },
        {
         "name": "review_date",
         "rawType": "object",
         "type": "string"
        },
        {
         "name": "last_updated",
         "rawType": "datetime64[ns]",
         "type": "datetime"
        }
       ],
       "ref": "347a1d14-d699-47ed-a74c-9d4d0a731307",
       "rows": [
        [
         "20",
         "1020",
         "Phone",
         "5",
         "2025-04-21",
         "2025-04-21 05:46:00"
        ],
        [
         "21",
         "1021",
         "Laptop",
         "1",
         "2025-04-22",
         "2025-04-22 20:36:00"
        ],
        [
         "22",
         "1022",
         "Keyboard",
         "1",
         "2025-04-23",
         "2025-04-23 07:03:00"
        ],
        [
         "23",
         "1023",
         "Keyboard",
         "2",
         "2025-04-24",
         "2025-04-24 02:05:00"
        ],
        [
         "24",
         "1024",
         "Tablet",
         "2",
         "2025-04-25",
         "2025-04-25 17:12:00"
        ]
       ],
       "shape": {
        "columns": 5,
        "rows": 5
       }
      },
      "text/html": [
       "<div>\n",
       "<style scoped>\n",
       "    .dataframe tbody tr th:only-of-type {\n",
       "        vertical-align: middle;\n",
       "    }\n",
       "\n",
       "    .dataframe tbody tr th {\n",
       "        vertical-align: top;\n",
       "    }\n",
       "\n",
       "    .dataframe thead th {\n",
       "        text-align: right;\n",
       "    }\n",
       "</style>\n",
       "<table border=\"1\" class=\"dataframe\">\n",
       "  <thead>\n",
       "    <tr style=\"text-align: right;\">\n",
       "      <th></th>\n",
       "      <th>review_id</th>\n",
       "      <th>product</th>\n",
       "      <th>rating</th>\n",
       "      <th>review_date</th>\n",
       "      <th>last_updated</th>\n",
       "    </tr>\n",
       "  </thead>\n",
       "  <tbody>\n",
       "    <tr>\n",
       "      <th>20</th>\n",
       "      <td>1020</td>\n",
       "      <td>Phone</td>\n",
       "      <td>5</td>\n",
       "      <td>2025-04-21</td>\n",
       "      <td>2025-04-21 05:46:00</td>\n",
       "    </tr>\n",
       "    <tr>\n",
       "      <th>21</th>\n",
       "      <td>1021</td>\n",
       "      <td>Laptop</td>\n",
       "      <td>1</td>\n",
       "      <td>2025-04-22</td>\n",
       "      <td>2025-04-22 20:36:00</td>\n",
       "    </tr>\n",
       "    <tr>\n",
       "      <th>22</th>\n",
       "      <td>1022</td>\n",
       "      <td>Keyboard</td>\n",
       "      <td>1</td>\n",
       "      <td>2025-04-23</td>\n",
       "      <td>2025-04-23 07:03:00</td>\n",
       "    </tr>\n",
       "    <tr>\n",
       "      <th>23</th>\n",
       "      <td>1023</td>\n",
       "      <td>Keyboard</td>\n",
       "      <td>2</td>\n",
       "      <td>2025-04-24</td>\n",
       "      <td>2025-04-24 02:05:00</td>\n",
       "    </tr>\n",
       "    <tr>\n",
       "      <th>24</th>\n",
       "      <td>1024</td>\n",
       "      <td>Tablet</td>\n",
       "      <td>2</td>\n",
       "      <td>2025-04-25</td>\n",
       "      <td>2025-04-25 17:12:00</td>\n",
       "    </tr>\n",
       "  </tbody>\n",
       "</table>\n",
       "</div>"
      ],
      "text/plain": [
       "    review_id   product  rating review_date        last_updated\n",
       "20       1020     Phone       5  2025-04-21 2025-04-21 05:46:00\n",
       "21       1021    Laptop       1  2025-04-22 2025-04-22 20:36:00\n",
       "22       1022  Keyboard       1  2025-04-23 2025-04-23 07:03:00\n",
       "23       1023  Keyboard       2  2025-04-24 2025-04-24 02:05:00\n",
       "24       1024    Tablet       2  2025-04-25 2025-04-25 17:12:00"
      ]
     },
     "execution_count": 16,
     "metadata": {},
     "output_type": "execute_result"
    }
   ],
   "source": [
    "# Simulate a past extraction time\n",
    "with open(\"last_extraction.txt\", \"w\") as f:\n",
    "    f.write(\"2025-04-20 12:00:00\")\n",
    "\n",
    "# Incremental extraction logic\n",
    "with open(\"last_extraction.txt\", \"r\") as f:\n",
    "    last_time = f.read().strip()\n",
    "\n",
    "df = pd.read_csv(\"custom_data.csv\", parse_dates=[\"last_updated\"])\n",
    "last_extraction_time = pd.to_datetime(last_time)\n",
    "df_incremental = df[df[\"last_updated\"] > last_extraction_time]\n",
    "\n",
    "print(f\"Extracted {len(df_incremental)} rows incrementally since {last_time}.\")\n",
    "df_incremental.head()\n"
   ]
  },
  {
   "cell_type": "markdown",
   "id": "ac2a925e",
   "metadata": {},
   "source": [
    "# Section 3: Update Last Extraction Time"
   ]
  },
  {
   "cell_type": "code",
   "execution_count": 17,
   "id": "09118246",
   "metadata": {},
   "outputs": [
    {
     "name": "stdout",
     "output_type": "stream",
     "text": [
      "Updated last_extraction.txt to 2025-05-30 10:19:00\n"
     ]
    }
   ],
   "source": [
    "# Get the latest timestamp\n",
    "new_checkpoint = df['last_updated'].max()\n",
    "\n",
    "# Save it back\n",
    "with open(\"last_extraction.txt\", \"w\") as f:\n",
    "    f.write(new_checkpoint.isoformat())\n",
    "\n",
    "print(f\"Updated last_extraction.txt to {new_checkpoint}\")\n"
   ]
  },
  {
   "cell_type": "markdown",
   "id": "05d1df5a",
   "metadata": {},
   "source": []
  }
 ],
 "metadata": {
  "kernelspec": {
   "display_name": "Python 3",
   "language": "python",
   "name": "python3"
  },
  "language_info": {
   "codemirror_mode": {
    "name": "ipython",
    "version": 3
   },
   "file_extension": ".py",
   "mimetype": "text/x-python",
   "name": "python",
   "nbconvert_exporter": "python",
   "pygments_lexer": "ipython3",
   "version": "3.12.10"
  }
 },
 "nbformat": 4,
 "nbformat_minor": 5
}
